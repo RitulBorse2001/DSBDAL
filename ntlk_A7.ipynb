{
  "nbformat": 4,
  "nbformat_minor": 0,
  "metadata": {
    "colab": {
      "provenance": [],
      "authorship_tag": "ABX9TyOiTA+VdbJgeOyAn2ZaQ+d0",
      "include_colab_link": true
    },
    "kernelspec": {
      "name": "python3",
      "display_name": "Python 3"
    },
    "language_info": {
      "name": "python"
    }
  },
  "cells": [
    {
      "cell_type": "markdown",
      "metadata": {
        "id": "view-in-github",
        "colab_type": "text"
      },
      "source": [
        "<a href=\"https://colab.research.google.com/github/RitulBorse2001/DSBDAL/blob/main/ntlk_A7.ipynb\" target=\"_parent\"><img src=\"https://colab.research.google.com/assets/colab-badge.svg\" alt=\"Open In Colab\"/></a>"
      ]
    },
    {
      "cell_type": "code",
      "execution_count": 1,
      "metadata": {
        "colab": {
          "base_uri": "https://localhost:8080/",
          "height": 88
        },
        "id": "VKXWTJRJ2CDv",
        "outputId": "31800710-ad64-4b6e-aba5-76ca0bf23cdc"
      },
      "outputs": [
        {
          "output_type": "execute_result",
          "data": {
            "text/plain": [
              "'Text Analytics\\n1. Extract Sample document and apply following document preprocessing methods:\\nTokenization, POS Tagging, stop words removal, Stemming and Lemmatization.\\n2. Create representation of document by calculating Term Frequency and Inverse Document\\nFrequency.'"
            ],
            "application/vnd.google.colaboratory.intrinsic+json": {
              "type": "string"
            }
          },
          "metadata": {},
          "execution_count": 1
        }
      ],
      "source": [
        "'''Text Analytics\n",
        "1. Extract Sample document and apply following document preprocessing methods:\n",
        "Tokenization, POS Tagging, stop words removal, Stemming and Lemmatization.\n",
        "2. Create representation of document by calculating Term Frequency and Inverse Document\n",
        "Frequency.'''"
      ]
    },
    {
      "cell_type": "code",
      "source": [
        "import nltk\n",
        "nltk.download('stopwords')\n",
        "nltk.download('words')\n",
        "nltk.download('wordnet')\n",
        "nltk.download('averged_perception_tagger')\n",
        "nltk.download('punkt')"
      ],
      "metadata": {
        "colab": {
          "base_uri": "https://localhost:8080/"
        },
        "id": "1uht0PUo2IEl",
        "outputId": "9580a759-3dd1-4a1b-cf8e-54f4392b0e5b"
      },
      "execution_count": 2,
      "outputs": [
        {
          "output_type": "stream",
          "name": "stderr",
          "text": [
            "[nltk_data] Downloading package stopwords to /root/nltk_data...\n",
            "[nltk_data]   Unzipping corpora/stopwords.zip.\n",
            "[nltk_data] Downloading package words to /root/nltk_data...\n",
            "[nltk_data]   Unzipping corpora/words.zip.\n",
            "[nltk_data] Downloading package wordnet to /root/nltk_data...\n",
            "[nltk_data] Error loading averged_perception_tagger: Package\n",
            "[nltk_data]     'averged_perception_tagger' not found in index\n",
            "[nltk_data] Downloading package punkt to /root/nltk_data...\n",
            "[nltk_data]   Unzipping tokenizers/punkt.zip.\n"
          ]
        },
        {
          "output_type": "execute_result",
          "data": {
            "text/plain": [
              "True"
            ]
          },
          "metadata": {},
          "execution_count": 2
        }
      ]
    },
    {
      "cell_type": "code",
      "source": [
        "import pandas as pd\n",
        "import numpy as np"
      ],
      "metadata": {
        "id": "PjZPzXcb2jIl"
      },
      "execution_count": 3,
      "outputs": []
    },
    {
      "cell_type": "code",
      "source": [
        "sent= \"They told that thier eges are 20 23 and 27 respectively\""
      ],
      "metadata": {
        "id": "Fr8IOeft2rDE"
      },
      "execution_count": 4,
      "outputs": []
    },
    {
      "cell_type": "code",
      "source": [
        "add=[]"
      ],
      "metadata": {
        "id": "pW-H-kgO2xUj"
      },
      "execution_count": 5,
      "outputs": []
    },
    {
      "cell_type": "code",
      "source": [
        "for word in sent.split():\n",
        "  if word.isdigit():\n",
        "    add.append(int(word))"
      ],
      "metadata": {
        "id": "fok1C07Z20NH"
      },
      "execution_count": 8,
      "outputs": []
    },
    {
      "cell_type": "code",
      "source": [
        "print (\"Ave\", sum(add)/len(add))"
      ],
      "metadata": {
        "colab": {
          "base_uri": "https://localhost:8080/"
        },
        "id": "JyY_jSX93Iiu",
        "outputId": "9a8c734a-464c-4161-cfc8-6a6e5753d8c3"
      },
      "execution_count": 9,
      "outputs": [
        {
          "output_type": "stream",
          "name": "stdout",
          "text": [
            "Ave 23.333333333333332\n"
          ]
        }
      ]
    },
    {
      "cell_type": "code",
      "source": [
        "from nltk.tokenize import word_tokenize, sent_tokenize\n",
        "sent= \"Hello all! how are you? Welcome to pun \"\n",
        "sent_tokenize(sent)"
      ],
      "metadata": {
        "colab": {
          "base_uri": "https://localhost:8080/"
        },
        "id": "cuxFOSln3KQC",
        "outputId": "396e5126-88f1-45cc-a09f-acf620861572"
      },
      "execution_count": 10,
      "outputs": [
        {
          "output_type": "execute_result",
          "data": {
            "text/plain": [
              "['Hello all!', 'how are you?', 'Welcome to pun']"
            ]
          },
          "metadata": {},
          "execution_count": 10
        }
      ]
    },
    {
      "cell_type": "code",
      "source": [
        "word_tokenize(sent)"
      ],
      "metadata": {
        "colab": {
          "base_uri": "https://localhost:8080/"
        },
        "id": "BdIh-ZNx3OxQ",
        "outputId": "5181c986-4899-496b-e5ad-7de156b01caa"
      },
      "execution_count": 11,
      "outputs": [
        {
          "output_type": "execute_result",
          "data": {
            "text/plain": [
              "['Hello', 'all', '!', 'how', 'are', 'you', '?', 'Welcome', 'to', 'pun']"
            ]
          },
          "metadata": {},
          "execution_count": 11
        }
      ]
    },
    {
      "cell_type": "code",
      "source": [
        "from nltk.tokenize import SpaceTokenizer\n",
        "tk=SpaceTokenizer()\n",
        "tk.tokenize(sent)"
      ],
      "metadata": {
        "colab": {
          "base_uri": "https://localhost:8080/"
        },
        "id": "-WVqq5r53SH6",
        "outputId": "ed1fb914-813c-4d7e-82a6-177bd9329df4"
      },
      "execution_count": 12,
      "outputs": [
        {
          "output_type": "execute_result",
          "data": {
            "text/plain": [
              "['Hello', 'all!', 'how', 'are', 'you?', 'Welcome', 'to', 'pun', '']"
            ]
          },
          "metadata": {},
          "execution_count": 12
        }
      ]
    },
    {
      "cell_type": "code",
      "source": [
        "sent='Hello all!\\tHow are u?\\tto pune'\n",
        "print(sent)"
      ],
      "metadata": {
        "colab": {
          "base_uri": "https://localhost:8080/"
        },
        "id": "ATMnVcpj3V_a",
        "outputId": "652908d1-e129-42c9-98e2-778df4cc976b"
      },
      "execution_count": 13,
      "outputs": [
        {
          "output_type": "stream",
          "name": "stdout",
          "text": [
            "Hello all!\tHow are u?\tto pune\n"
          ]
        }
      ]
    },
    {
      "cell_type": "code",
      "source": [
        "s1='ctas','catlike','catty','cat'\n",
        "s2='stemmer','stemming','stemmed','stem'\n",
        "s3='fishing','fished','fisher','fish'\n",
        "s4='argue','argued','argues','argus'\n"
      ],
      "metadata": {
        "id": "vzEDfVWo3dGA"
      },
      "execution_count": 14,
      "outputs": []
    },
    {
      "cell_type": "code",
      "source": [
        "from nltk.stem import PorterStemmer\n",
        "ps=PorterStemmer()\n",
        "'fish'\n",
        "ps.stem(s3[0])"
      ],
      "metadata": {
        "colab": {
          "base_uri": "https://localhost:8080/",
          "height": 36
        },
        "id": "fYaHSAN73ieR",
        "outputId": "ef67b282-4a0b-4f4c-8944-d8b74be22976"
      },
      "execution_count": 16,
      "outputs": [
        {
          "output_type": "execute_result",
          "data": {
            "text/plain": [
              "'fish'"
            ],
            "application/vnd.google.colaboratory.intrinsic+json": {
              "type": "string"
            }
          },
          "metadata": {},
          "execution_count": 16
        }
      ]
    },
    {
      "cell_type": "code",
      "source": [
        "for word in s4:\n",
        "  ps=PorterStemmer()\n",
        "  print(ps.stem(word))"
      ],
      "metadata": {
        "colab": {
          "base_uri": "https://localhost:8080/"
        },
        "id": "eVPpHPuh3teh",
        "outputId": "7132b944-8a70-4421-fed5-955ff38ad8a1"
      },
      "execution_count": 20,
      "outputs": [
        {
          "output_type": "stream",
          "name": "stdout",
          "text": [
            "argu\n",
            "argu\n",
            "argu\n",
            "argu\n"
          ]
        }
      ]
    },
    {
      "cell_type": "code",
      "source": [
        "# lemmatization\n",
        "word='playing'\n",
        "from nltk.stem import WordNetLemmatizer\n",
        "wnl=WordNetLemmatizer()\n",
        "print(wnl.lemmatize(word,'n')) # noun\n",
        "print(wnl.lemmatize(word,'v')) # verb\n",
        "print(wnl.lemmatize(word,'a')) # adjective\n",
        "print(wnl.lemmatize(word,'r')) # adverb\n"
      ],
      "metadata": {
        "colab": {
          "base_uri": "https://localhost:8080/"
        },
        "id": "9SfIiLH031Mn",
        "outputId": "a4f2d2f8-e048-4ded-fe9d-a422d5c8338c"
      },
      "execution_count": 22,
      "outputs": [
        {
          "output_type": "stream",
          "name": "stdout",
          "text": [
            "playing\n",
            "play\n",
            "playing\n",
            "playing\n"
          ]
        }
      ]
    },
    {
      "cell_type": "code",
      "source": [
        "word='went'\n",
        "wnl=WordNetLemmatizer()\n",
        "print(wnl.lemmatize(word,'n')) # noun\n",
        "print(wnl.lemmatize(word,'v')) # verb\n",
        "print(wnl.lemmatize(word,'a')) # adjective\n",
        "print(wnl.lemmatize(word,'r')) # adverb\n"
      ],
      "metadata": {
        "colab": {
          "base_uri": "https://localhost:8080/"
        },
        "id": "o-8vEBls4AZz",
        "outputId": "fe3aa47c-4eb0-41e4-c6c4-b8edb927ef1f"
      },
      "execution_count": 23,
      "outputs": [
        {
          "output_type": "stream",
          "name": "stdout",
          "text": [
            "went\n",
            "go\n",
            "went\n",
            "went\n"
          ]
        }
      ]
    },
    {
      "cell_type": "code",
      "source": [
        "# POS tagging\n",
        "from nltk import pos_tag\n",
        "import nltk\n",
        "nltk.download('averaged_perceptron_tagger')"
      ],
      "metadata": {
        "colab": {
          "base_uri": "https://localhost:8080/"
        },
        "id": "J3BgH4yw4RWe",
        "outputId": "5388c847-8d71-4ab6-9fb9-29c9188e5c77"
      },
      "execution_count": 24,
      "outputs": [
        {
          "output_type": "stream",
          "name": "stderr",
          "text": [
            "[nltk_data] Downloading package averaged_perceptron_tagger to\n",
            "[nltk_data]     /root/nltk_data...\n",
            "[nltk_data]   Unzipping taggers/averaged_perceptron_tagger.zip.\n"
          ]
        },
        {
          "output_type": "execute_result",
          "data": {
            "text/plain": [
              "True"
            ]
          },
          "metadata": {},
          "execution_count": 24
        }
      ]
    },
    {
      "cell_type": "code",
      "source": [
        "sents='Rajgad (literal meaning Ruling Fort) is a hill fort situated in the Pune district of Maharashtra, India. Formerly known as Murumde'\n",
        "print(sents)"
      ],
      "metadata": {
        "colab": {
          "base_uri": "https://localhost:8080/"
        },
        "id": "Iq76w60P4a0H",
        "outputId": "1cb18409-0855-40f4-e2b2-d18fa90943f4"
      },
      "execution_count": 26,
      "outputs": [
        {
          "output_type": "stream",
          "name": "stdout",
          "text": [
            "Rajgad (literal meaning Ruling Fort) is a hill fort situated in the Pune district of Maharashtra, India. Formerly known as Murumde\n"
          ]
        }
      ]
    },
    {
      "cell_type": "code",
      "source": [
        "words=word_tokenize(sents)\n",
        "nltk.download('omw-1.4')"
      ],
      "metadata": {
        "colab": {
          "base_uri": "https://localhost:8080/"
        },
        "id": "Tq20C1dE4kjD",
        "outputId": "b8e21ac3-3e07-4c9c-b319-6ea60e29d1f5"
      },
      "execution_count": 27,
      "outputs": [
        {
          "output_type": "stream",
          "name": "stderr",
          "text": [
            "[nltk_data] Downloading package omw-1.4 to /root/nltk_data...\n"
          ]
        },
        {
          "output_type": "execute_result",
          "data": {
            "text/plain": [
              "True"
            ]
          },
          "metadata": {},
          "execution_count": 27
        }
      ]
    },
    {
      "cell_type": "code",
      "source": [
        "pos_tag(words)\n"
      ],
      "metadata": {
        "colab": {
          "base_uri": "https://localhost:8080/"
        },
        "id": "QDEtmSow4oqE",
        "outputId": "7877b442-b974-4443-a8a0-d4c5ad9c7112"
      },
      "execution_count": 28,
      "outputs": [
        {
          "output_type": "execute_result",
          "data": {
            "text/plain": [
              "[('Rajgad', 'NNP'),\n",
              " ('(', '('),\n",
              " ('literal', 'JJ'),\n",
              " ('meaning', 'NN'),\n",
              " ('Ruling', 'NNP'),\n",
              " ('Fort', 'NNP'),\n",
              " (')', ')'),\n",
              " ('is', 'VBZ'),\n",
              " ('a', 'DT'),\n",
              " ('hill', 'NN'),\n",
              " ('fort', 'NN'),\n",
              " ('situated', 'VBN'),\n",
              " ('in', 'IN'),\n",
              " ('the', 'DT'),\n",
              " ('Pune', 'NNP'),\n",
              " ('district', 'NN'),\n",
              " ('of', 'IN'),\n",
              " ('Maharashtra', 'NNP'),\n",
              " (',', ','),\n",
              " ('India', 'NNP'),\n",
              " ('.', '.'),\n",
              " ('Formerly', 'RB'),\n",
              " ('known', 'VBN'),\n",
              " ('as', 'IN'),\n",
              " ('Murumde', 'NNP')]"
            ]
          },
          "metadata": {},
          "execution_count": 28
        }
      ]
    },
    {
      "cell_type": "code",
      "source": [
        "tags=pos_tag(words)\n",
        "for word in tags:\n",
        "    if word[1].startswith('V'):\n",
        "      print(word[0])"
      ],
      "metadata": {
        "colab": {
          "base_uri": "https://localhost:8080/"
        },
        "id": "NVM-Cz8c4Ftk",
        "outputId": "a6a94f88-eca7-4c70-b548-24571c8ccadf"
      },
      "execution_count": 30,
      "outputs": [
        {
          "output_type": "stream",
          "name": "stdout",
          "text": [
            "is\n",
            "situated\n",
            "known\n"
          ]
        }
      ]
    },
    {
      "cell_type": "code",
      "source": [
        "# spell correction\n",
        "from textblob import TextBlob"
      ],
      "metadata": {
        "id": "ZkZ48K--5r5U"
      },
      "execution_count": 31,
      "outputs": []
    },
    {
      "cell_type": "code",
      "source": [
        "t=TextBlob('computoor')\n",
        "print(t.correct())"
      ],
      "metadata": {
        "colab": {
          "base_uri": "https://localhost:8080/"
        },
        "id": "NzKJ0_7h5tCi",
        "outputId": "4524e78f-6569-4aee-9d08-18bb2e5ec09b"
      },
      "execution_count": 32,
      "outputs": [
        {
          "output_type": "stream",
          "name": "stdout",
          "text": [
            "computer\n"
          ]
        }
      ]
    },
    {
      "cell_type": "code",
      "source": [
        "t=TextBlob('nead')\n",
        "print(t.correct())"
      ],
      "metadata": {
        "colab": {
          "base_uri": "https://localhost:8080/"
        },
        "id": "88-nczit5wRp",
        "outputId": "304e4ee2-f906-4aad-c508-0c3435cd6b5a"
      },
      "execution_count": 33,
      "outputs": [
        {
          "output_type": "stream",
          "name": "stdout",
          "text": [
            "head\n"
          ]
        }
      ]
    }
  ]
}